{
 "cells": [
  {
   "cell_type": "markdown",
   "metadata": {
    "collapsed": true
   },
   "source": [
    "# Stock Market Prediction: Modeling"
   ]
  },
  {
   "cell_type": "markdown",
   "metadata": {},
   "source": [
    "In this series of notebooks, I will create a machine learning algorithm to predict the stock price (Adjusted Close) and make a trading recommendation for the user. \n",
    "\n",
    "The input features are:\n",
    "- Open \n",
    "- Close\n",
    "- Low\n",
    "- High\n",
    "\n",
    "For the following stocks, I will create a trained algorithm:\n",
    "- *Blue chip stocks*: Blue chip stocks are shares of large, established companies with stable financial performance and low risk.\n",
    "    - BMW (BMW.DE)\n",
    "    <p>&nbsp;</p> \n",
    "- *Growth stocks*: growth stocks are stocks of companies with high potential for future growth. These stocks often carry higher risks, but also offer higher potential returns\n",
    "    - Tesla, Inc. (TSLA)\n",
    "    - Bitcoin (BTC-USD)\n",
    "    <p>&nbsp;</p>\n",
    "- *Dividend stocks*: dividend stocks are stocks of companies that pay regular dividends to their shareholders. These stocks often carry lower risks and offer a regular source of income. \n",
    "    - Johnson & Johnson (JNJ)\n",
    "    <p>&nbsp;</p>\n",
    "- *Small-cap stocks*: small-cap stocks are stocks of small companies with higher risk and higher potential for growth and return.\n",
    "     - Etsy, Inc (ETSY)\n",
    "\n",
    "The following algorithm will be used for prediction:\n",
    "- LSTM (Long Short-Term Memory)\n",
    "\n",
    "This is a popular algorithms for stock prediction. \n",
    "\n",
    "The goal is to create an algorithm which can predict the stock prices with a tolerance of ± 5%.\n",
    "Also, I want to show how the different stock categories influence the accuracy of the algorithm. \n",
    "\n",
    "The final program on Github.com (https://github.com/maximkiesel1/Stock_Market_Prediction)  can be used for all stocks.\n",
    "\n",
    "In this notebook, the focus will be to do feature engineering, splitting the data, train the models and validate the performance. "
   ]
  },
  {
   "cell_type": "markdown",
   "metadata": {},
   "source": [
    "## Table Of Contents "
   ]
  },
  {
   "cell_type": "markdown",
   "metadata": {},
   "source": [
    "#### 1. [Feature Engineering](#fe)  \n",
    "#### 2. [Training/Validation: LSTM](#tlstm)\n",
    "#### 3. [Comparison Stock Types](#comparison)\n",
    "#### 4. [Prediction: LSTM](#plstm)"
   ]
  },
  {
   "cell_type": "code",
   "execution_count": 26,
   "metadata": {},
   "outputs": [],
   "source": [
    "# load libraries\n",
    "import sys\n",
    "\n",
    "from sqlalchemy import create_engine, text, inspect\n",
    "import ssl\n",
    "\n",
    "import pandas as pd\n",
    "import numpy as np\n",
    "\n",
    "import ta\n",
    "\n",
    "from sklearn.metrics import r2_score\n",
    "from sklearn.model_selection import TimeSeriesSplit\n",
    "from sklearn.preprocessing import MinMaxScaler\n",
    "\n",
    "import matplotlib.pyplot as plt\n",
    "\n",
    "from sklearn.model_selection import RandomizedSearchCV\n",
    "\n",
    "import tensorflow as tf\n",
    "from tensorflow.keras.models import Sequential\n",
    "from tensorflow.keras.layers import *\n",
    "from tensorflow.keras.callbacks import ModelCheckpoint\n",
    "from tensorflow.keras.losses import MeanSquaredError\n",
    "from tensorflow.keras.metrics import RootMeanSquaredError\n",
    "from tensorflow.keras.optimizers.legacy import Adam\n",
    "from tensorflow.keras.models import load_model\n",
    "from keras.wrappers.scikit_learn import KerasRegressor\n",
    "import tensorflow.compat.v1 as tf\n",
    "\n",
    "import pickle\n",
    "\n",
    "import absl.logging\n",
    "import logging\n",
    "\n",
    "import random"
   ]
  },
  {
   "cell_type": "markdown",
   "metadata": {},
   "source": [
    "## <a class=\"anchor\" id=\"fe\"> 1. Feature Engineering </a>"
   ]
  },
  {
   "cell_type": "markdown",
   "metadata": {},
   "source": [
    "At first, I load the data from a database. After that, I define the new features and integrate them. Lastly, I split the data in training, validation, and test data. Also, the data will be transformed in a fitted form for the LSTM algorithm."
   ]
  },
  {
   "cell_type": "code",
   "execution_count": 544,
   "metadata": {},
   "outputs": [],
   "source": [
    "def load_data(database_filepath):\n",
    "    '''\n",
    "    Loading the data from a sql database and transform it to X, y data for the machine learning model.\n",
    "    Transform the data in arrays\n",
    "    \n",
    "    INPUT \n",
    "    database_filepath - (str) path to the sql database\n",
    "      \n",
    "    OUTPUT\n",
    "    data - (dict) transformed dfs for the stocks\n",
    "    '''\n",
    "    # create the engine for the sql database\n",
    "    engine = create_engine(f'sqlite:///{database_filepath}')\n",
    "    \n",
    "    # create a connection\n",
    "    conn = engine.connect()\n",
    "    \n",
    "    # find the table names in the db\n",
    "    inspector = inspect(engine)\n",
    "    table_names = inspector.get_table_names()\n",
    "    \n",
    "    data = {}\n",
    "    for name in table_names:\n",
    "        \n",
    "        # transform to a executable object for pandas\n",
    "        sql = text(\"SELECT * FROM '{}'\".format(name))\n",
    "        \n",
    "        # create the dataframe\n",
    "        df = pd.read_sql(sql, conn)\n",
    "\n",
    "        # remove hours, minutes, and seconds from the date\n",
    "        df['date'] = pd.to_datetime(df['date']).dt.date\n",
    "        \n",
    "        # set the date as index\n",
    "        df = df.set_index('date')\n",
    "        \n",
    "        # positioning for the target variable on the last column position (for easy finding)\n",
    "        col = df.pop('Adj Close')\n",
    "        df['Adj Close'] = col\n",
    "        \n",
    "        data[name] = df\n",
    "        \n",
    "    return data"
   ]
  },
  {
   "cell_type": "markdown",
   "metadata": {},
   "source": [
    "I will know explain the new features:\n",
    "\n",
    "- *Moving Averages (SMA, EMA)*: A moving average calculates the average price of a security or other asset over a specified period of time. The Simple Moving Average (SMA) is the average price over the specified time period. Exponential Moving Average (EMA) is a type of moving average that places more emphasis on the most recent data.\n",
    "\n",
    "- *Bollinger Bands*: Bollinger Bands are an indicator of the volatility of securities or other assets. They consist of three lines: a simple moving average line, an upper band line, and a lower band line that are two standard deviations away from the simple moving average.\n",
    "\n",
    "- *Average True Range (ATR)*: The Average True Range is a measure of the volatility of a security or other asset. It is the average of the largest daily price movements of a security or asset over a given time period.\n",
    "\n",
    "- *MACD*: Moving Average Convergence Divergence (MACD) is an indicator of the trend and momentum changes of a security or other asset. It is calculated by subtracting the 26-period EMA from the 12-period EMA.\n",
    "\n",
    "- *RSI*: The Relative Strength Index (RSI) is an indicator of the strength of a trend and potential trend reversal. It is calculated by computing the ratio of average gains and losses over a given period of time.\n",
    "\n",
    "- *Stochastic Oscillator*: The Stochastic Oscillator is a momentum indicator that helps identify overbought and oversold conditions. It compares the closing price of a security or other asset to the high-low range over a specified time period.\n",
    "\n",
    "- *Stochastic signal*: The Stochastic signal is a signal or trigger line calculated from the moving average of the Stochastic oscillator. It is used to generate buy and sell signals when it crosses above or below the oscillator."
   ]
  },
  {
   "cell_type": "markdown",
   "metadata": {},
   "source": [
    "Later on, I will test the model performance with the original 6 features and the performance with the new 11 features. "
   ]
  },
  {
   "cell_type": "code",
   "execution_count": 547,
   "metadata": {},
   "outputs": [],
   "source": [
    "def feat_eng(data):\n",
    "    '''\n",
    "    Create new features (11) for the X dfs and clean potential Nan values.\n",
    "    Adjusted the amount of y values.\n",
    "    \n",
    "    INPUT \n",
    "    Xs - (dict) Feature dfs of the stocks\n",
    "    ys - (dict) Target variables of the stocks\n",
    "      \n",
    "    OUTPUT\n",
    "    data - (dict) stock dfs with the new features\n",
    "    '''\n",
    "    \n",
    "    # create empty dict for the new dfs with the new features\n",
    "    data_ =  {}\n",
    "    \n",
    "    for name in data:\n",
    "        \n",
    "        # define the dfs from the dict\n",
    "        df = data[name]\n",
    "\n",
    "        # Moving Averages (SMA, EMA)\n",
    "        df['SMA'] = ta.trend.sma_indicator(df['Adj Close'], window=20)\n",
    "        df['EMA'] = ta.trend.ema_indicator(df['Adj Close'], window=20)\n",
    "\n",
    "        # Bollinger Bands\n",
    "        bb = ta.volatility.BollingerBands(close=df['Adj Close'], window=20, window_dev=2)\n",
    "        df['BB_High'] = bb.bollinger_hband()\n",
    "        df['BB_Low'] = bb.bollinger_lband()\n",
    "\n",
    "        # Average True Range (ATR)\n",
    "        atr = ta.volatility.AverageTrueRange(high=df['High'], low=df['Low'], close= df['Adj Close'], window=14)\n",
    "        df['ATR'] = atr.average_true_range()\n",
    "\n",
    "        # MACD\n",
    "        macd = ta.trend.MACD(df['Adj Close'], window_slow=26, window_fast=12, window_sign=9)\n",
    "        df['MACD'] = macd.macd()\n",
    "        df['MACD_Signal'] = macd.macd_signal()\n",
    "        df['MACD_Diff'] = macd.macd_diff()\n",
    "\n",
    "        # RSI\n",
    "        df['RSI'] = ta.momentum.RSIIndicator(df['Adj Close'], window=14).rsi()\n",
    "\n",
    "        # Stochastic Oscillator\n",
    "        stoch = ta.momentum.StochasticOscillator(high=df['High'], low=df['Low'], close=df['Adj Close'], window=14, smooth_window=3)\n",
    "        df['Stoch_Oscillator'] = stoch.stoch()\n",
    "        df['Stoch_Signal'] = stoch.stoch_signal()\n",
    "        \n",
    "        # delete all row with no values (because of the new features)\n",
    "        # find the max rows with nan values\n",
    "        max_nan_row = max(df.isna().sum())\n",
    "        df = df.drop(df.index[:max_nan_row])\n",
    "        \n",
    "        # put the target variable on the place of the last column to find it later\n",
    "        col = df.pop('Adj Close')\n",
    "        df['Adj Close'] = col\n",
    "        \n",
    "        # add the df in the dict\n",
    "        data[name] = df\n",
    "\n",
    "    return data"
   ]
  },
  {
   "cell_type": "markdown",
   "metadata": {},
   "source": [
    "The next function splits the data, transform it, that it can be used be the LSTM algorithm and do a Z-Score normalization. "
   ]
  },
  {
   "cell_type": "code",
   "execution_count": 558,
   "metadata": {},
   "outputs": [],
   "source": [
    "def data_split(df, window_size):\n",
    "    '''\n",
    "    Splitting of the datasets in the dictionaries in train, validation, and test (60%, 20%, 20%).\n",
    "    Transform the date that it can used in the lstm algorithm.\n",
    "    Z-Score normalization of the data\n",
    "    \n",
    "    INPUT \n",
    "    df - (dataframe) Stock dataframe\n",
    "    windows_size - (int) Number of how far back the program should look at the previous data\n",
    "      \n",
    "    OUTPUT\n",
    "    Xs_train - (dict) Splits training data of the input features\n",
    "    Xs_val - (dict) Split validation data of the input features\n",
    "    Xs_test - (dict) Split test data of the input features\n",
    "    test_mean - Mean of the adjusted close in the X test data\n",
    "    test_std - Standard deviation of the adjusted close in the X test data\n",
    "    ys_train - (dict) Split training data of the output feature\n",
    "    ys_val - (dict) Split validation data of the output feature\n",
    "    ys_test - (dict) Split test data of the output feature\n",
    "    test_y_mean - mean of the adjusted close in the y test data\n",
    "    test_std - Standard deviation of the adjusted close in the y test data\n",
    "    '''\n",
    "    \n",
    "    array = np.array(df)\n",
    "    \n",
    "    X, y = [], []\n",
    "    \n",
    "    for i in range(len(array)-window_size):\n",
    "        X.append(array[i:i+window_size])\n",
    "        y.append(array[i+window_size])\n",
    "        \n",
    "    X = np.array(X)\n",
    "    y = np.array(y)\n",
    "    \n",
    "    # Split the data into training, validation, and testing sets\n",
    "    n_samples = len(X)\n",
    "    train_size = int(0.6 * n_samples)\n",
    "    val_size = int(0.2 * n_samples)\n",
    "    X_train, X_val, X_test = X[:train_size], X[train_size:train_size+val_size], X[train_size+val_size:]\n",
    "    y_train, y_val, y_test = y[:train_size], y[train_size:train_size+val_size], y[train_size+val_size:]\n",
    "    \n",
    "    # Standardize the features in X_train, X_val, and X_test\n",
    "    for i in range(X_train.shape[-1]):\n",
    "        train_mean = np.mean(X_train[:, :, i])\n",
    "        train_std = np.std(X_train[:, :, i])\n",
    "        val_mean = np.mean(X_val[:, :, i])\n",
    "        val_std = np.std(X_val[:, :, i])\n",
    "        test_mean = np.mean(X_test[:, :, i])\n",
    "        test_std = np.std(X_test[:, :, i])\n",
    "        \n",
    "        X_train[:, :, i] = (X_train[:, :, i] - train_mean) / train_std\n",
    "        X_val[:, :, i] = (X_val[:, :, i] - val_mean) / val_std\n",
    "        X_test[:, :, i] = (X_test[:, :, i] - test_mean) / test_std\n",
    "        \n",
    "        train_y_mean = np.mean(y_train[:,i])\n",
    "        train_y_std = np.std(y_train[:,i])\n",
    "        val_y_mean = np.mean(y_val[:,i])\n",
    "        val_y_std = np.std(y_val[:,i])\n",
    "        test_y_mean = np.mean(y_test[:,i])\n",
    "        test_y_std = np.std(y_test[:,i])\n",
    "        \n",
    "        y_train[:,i] = (y_train[:,i] - train_y_mean) / train_y_std\n",
    "        y_val[:, i] = (y_val[:,i] - val_y_mean) / val_y_std\n",
    "        y_test[:, i] = (y_test[:,i] - test_y_mean) / test_y_std\n",
    "    \n",
    "    # the last column (adjusted close) of the X/y test mean and std arrays will be returned (for back transformation)\n",
    "    return X_train, X_val, X_test, test_mean, test_std, y_train, y_val, y_test, test_y_mean, test_y_std\n"
   ]
  },
  {
   "cell_type": "markdown",
   "metadata": {},
   "source": [
    "## <a class=\"anchor\" id=\"tlstm\"> 2. Training/Validation: LSTM </a>"
   ]
  },
  {
   "cell_type": "markdown",
   "metadata": {},
   "source": [
    "Now I will define a very popular algorithm for time series. It´s the Long Short-Term Memory (LSTM). A Long Short-Term Memory (LSTM) is a type of Recurrent Neural Network (RNN) architecture that is designed to model sequential data by retaining and selectively forgetting previous information. It achieves this by using a memory cell, an input gate, an output gate, and a forget gate to regulate the flow of information through the cell. "
   ]
  },
  {
   "cell_type": "markdown",
   "metadata": {},
   "source": [
    "At first, I define the algorithm for one stock ('BMW.DE') and see if it can perform the 5% tolerance with 6 existing features."
   ]
  },
  {
   "cell_type": "code",
   "execution_count": 559,
   "metadata": {},
   "outputs": [],
   "source": [
    "# load the data with 6 features\n",
    "data = load_data('/Users/maximkiesel/PycharmProjects/Stock_Market_Prediction/data/cleaned_data.db')"
   ]
  },
  {
   "cell_type": "code",
   "execution_count": 560,
   "metadata": {},
   "outputs": [],
   "source": [
    "def train_model(data, loops):\n",
    "    '''\n",
    "    Create new features (11) for the X dfs and clean potential Nan values.\n",
    "    Adjusted the amount of y values.\n",
    "    \n",
    "    INPUT \n",
    "    data - (dict) Stock dfs with the new features\n",
    "    loop - (int) Numbers of loops with randomized model parameter\n",
    "      \n",
    "    OUTPUT\n",
    "    best_model - (dict) Stocks with following items:\n",
    "    - 'model': Trained model\n",
    "    - 'mse': Mean Squared Error for the best model\n",
    "    - 'paramter': List of the parameter of the best model\n",
    "    '''\n",
    "    \n",
    "    # define empty dict\n",
    "    best_model = {}\n",
    "    \n",
    "    # define selection of parameters\n",
    "    params = {\n",
    "    'window_size': [4, 8, 12, 20],\n",
    "    'lstm_units': [16, 32, 64, 128],\n",
    "    'dense_units': [16, 32, 64, 128],\n",
    "    'learning_rate': [0.0001, 0.001, 0.01, 0.1]\n",
    "    }\n",
    "    \n",
    "    # iterate through the stock names\n",
    "    for name in data:\n",
    "        \n",
    "        # info printing\n",
    "        print('Trained Stock: {}'.format(name))\n",
    "        \n",
    "        best_model[name] = {}\n",
    "        \n",
    "        # select the arrays\n",
    "        df = data[name]\n",
    "        \n",
    "        # iterate through \n",
    "        for i in range(1,loops+1):\n",
    "            \n",
    "            # info printing\n",
    "            print('Parameter run: {}'.format(i))\n",
    "        \n",
    "            random_params = {key: random.choice(values) for key, values in params.items()}\n",
    "    \n",
    "            # info printing\n",
    "            print('Parameters: {}'.format(random_params))\n",
    "    \n",
    "            X_train, X_val, X_test, test_mean, test_std, y_train, y_val, y_test, test_y_mean, test_y_std = data_split(df, random_params['window_size'])\n",
    "\n",
    "            # define the model for the stock JNJ\n",
    "            model = Sequential()\n",
    "            model.add(InputLayer((random_params['window_size'], X_train.shape[-1]))) # the first parameter is always the window size, the second the number of features\n",
    "            model.add(LSTM(random_params['lstm_units']))\n",
    "            model.add(Dense(random_params['dense_units'], 'relu'))\n",
    "            model.add(Dense(X_train.shape[-1], 'linear')) # output of 17 features\n",
    "            model.compile(loss=MeanSquaredError(), optimizer=Adam(learning_rate=random_params['learning_rate']), metrics=[RootMeanSquaredError()])\n",
    "    \n",
    "            # create a model checkpoint for the best model\n",
    "            cp = ModelCheckpoint('model', save_best_only=True, verbose=0)\n",
    "            \n",
    "            # fitting the model\n",
    "            history = model.fit(X_train, y_train, validation_data=(X_val, y_val), epochs=200, callbacks=[cp], verbose=0)\n",
    "    \n",
    "            # load the best model\n",
    "            model = load_model('model')\n",
    "            \n",
    "            # get the best mse from the best model\n",
    "            best_mse = history.history['val_loss'][np.argmin(history.history['val_loss'])]\n",
    "            \n",
    "            # if this is the first window size, set the accuracy to the current percent difference\n",
    "            if i == 1:\n",
    "                \n",
    "                best_model[name]['model'] = model\n",
    "                best_model[name]['mse'] = best_mse\n",
    "                best_model[name]['paramter'] = random_params\n",
    "            \n",
    "            # otherwise, compare the current accuracy to the previous best accuracy and update if necessary\n",
    "            else:\n",
    "                \n",
    "                if best_model[name]['mse'] > best_mse:\n",
    "                    \n",
    "                    best_model[name]['model'] = model\n",
    "                    best_model[name]['mse'] = best_mse\n",
    "                    best_model[name]['paramter'] = random_params\n",
    "                \n",
    "                else:\n",
    "                    \n",
    "                    continue\n",
    "                    \n",
    "        break # break the loop to just train a model for the stock 'BMW.DE'\n",
    "        \n",
    "    return best_model"
   ]
  },
  {
   "cell_type": "code",
   "execution_count": null,
   "metadata": {
    "scrolled": true
   },
   "outputs": [
    {
     "name": "stdout",
     "output_type": "stream",
     "text": [
      "Trained Stock: BMW.DE\n",
      "Parameter run: 1\n",
      "Parameters: {'window_size': 8, 'lstm_units': 16, 'dense_units': 32, 'learning_rate': 0.1}\n"
     ]
    },
    {
     "name": "stderr",
     "output_type": "stream",
     "text": [
      "2023-05-05 22:05:08.734474: W tensorflow/c/c_api.cc:300] Operation '{name:'training_428/Adam/dense_459/kernel/m/Assign' id:260648 op device:{requested: '', assigned: ''} def:{{{node training_428/Adam/dense_459/kernel/m/Assign}} = AssignVariableOp[_has_manual_control_dependencies=true, dtype=DT_FLOAT, validate_shape=false](training_428/Adam/dense_459/kernel/m, training_428/Adam/dense_459/kernel/m/Initializer/zeros)}}' was changed by setting attribute after it was run by a session. This mutation will have no effect, and will trigger an error in the future. Either don't modify nodes after running them or create a new session.\n",
      "/Library/Frameworks/Python.framework/Versions/3.10/lib/python3.10/site-packages/keras/engine/training_v1.py:2335: UserWarning: `Model.state_updates` will be removed in a future version. This property should not be used in TensorFlow 2.0, as `updates` are applied automatically.\n",
      "  updates = self.state_updates\n",
      "2023-05-05 22:05:15.548073: W tensorflow/c/c_api.cc:300] Operation '{name:'loss_436/mul' id:260256 op device:{requested: '', assigned: ''} def:{{{node loss_436/mul}} = Mul[T=DT_FLOAT, _has_manual_control_dependencies=true](loss_436/mul/x, loss_436/dense_459_loss/value)}}' was changed by setting attribute after it was run by a session. This mutation will have no effect, and will trigger an error in the future. Either don't modify nodes after running them or create a new session.\n",
      "2023-05-05 22:06:29.939451: W tensorflow/c/c_api.cc:300] Operation '{name:'dense_459_1/kernel/Assign' id:260962 op device:{requested: '', assigned: ''} def:{{{node dense_459_1/kernel/Assign}} = AssignVariableOp[_has_manual_control_dependencies=true, dtype=DT_FLOAT, validate_shape=false](dense_459_1/kernel, dense_459_1/kernel/Initializer/random_uniform)}}' was changed by setting attribute after it was run by a session. This mutation will have no effect, and will trigger an error in the future. Either don't modify nodes after running them or create a new session.\n",
      "2023-05-05 22:06:40.277351: W tensorflow/c/c_api.cc:300] Operation '{name:'lstm_229_1/lstm_cell_441/recurrent_kernel/v/Assign' id:261116 op device:{requested: '', assigned: ''} def:{{{node lstm_229_1/lstm_cell_441/recurrent_kernel/v/Assign}} = AssignVariableOp[_has_manual_control_dependencies=true, dtype=DT_FLOAT, validate_shape=false](lstm_229_1/lstm_cell_441/recurrent_kernel/v, lstm_229_1/lstm_cell_441/recurrent_kernel/v/Initializer/zeros)}}' was changed by setting attribute after it was run by a session. This mutation will have no effect, and will trigger an error in the future. Either don't modify nodes after running them or create a new session.\n"
     ]
    },
    {
     "name": "stdout",
     "output_type": "stream",
     "text": [
      "Parameter run: 2\n",
      "Parameters: {'window_size': 20, 'lstm_units': 64, 'dense_units': 32, 'learning_rate': 0.001}\n"
     ]
    },
    {
     "name": "stderr",
     "output_type": "stream",
     "text": [
      "2023-05-05 22:06:55.390226: W tensorflow/c/c_api.cc:300] Operation '{name:'lstm_230/lstm_cell_442/recurrent_kernel/Assign' id:261240 op device:{requested: '', assigned: ''} def:{{{node lstm_230/lstm_cell_442/recurrent_kernel/Assign}} = AssignVariableOp[_has_manual_control_dependencies=true, dtype=DT_FLOAT, validate_shape=false](lstm_230/lstm_cell_442/recurrent_kernel, lstm_230/lstm_cell_442/recurrent_kernel/Initializer/mul_1)}}' was changed by setting attribute after it was run by a session. This mutation will have no effect, and will trigger an error in the future. Either don't modify nodes after running them or create a new session.\n",
      "2023-05-05 22:07:02.368757: W tensorflow/c/c_api.cc:300] Operation '{name:'loss_438/mul' id:261453 op device:{requested: '', assigned: ''} def:{{{node loss_438/mul}} = Mul[T=DT_FLOAT, _has_manual_control_dependencies=true](loss_438/mul/x, loss_438/dense_461_loss/value)}}' was changed by setting attribute after it was run by a session. This mutation will have no effect, and will trigger an error in the future. Either don't modify nodes after running them or create a new session.\n",
      "2023-05-05 22:08:35.355116: W tensorflow/c/c_api.cc:300] Operation '{name:'dense_461_1/bias/Assign' id:262172 op device:{requested: '', assigned: ''} def:{{{node dense_461_1/bias/Assign}} = AssignVariableOp[_has_manual_control_dependencies=true, dtype=DT_FLOAT, validate_shape=false](dense_461_1/bias, dense_461_1/bias/Initializer/zeros)}}' was changed by setting attribute after it was run by a session. This mutation will have no effect, and will trigger an error in the future. Either don't modify nodes after running them or create a new session.\n",
      "2023-05-05 22:08:45.643655: W tensorflow/c/c_api.cc:300] Operation '{name:'lstm_230_1/lstm_cell_443/recurrent_kernel/v/Assign' id:262327 op device:{requested: '', assigned: ''} def:{{{node lstm_230_1/lstm_cell_443/recurrent_kernel/v/Assign}} = AssignVariableOp[_has_manual_control_dependencies=true, dtype=DT_FLOAT, validate_shape=false](lstm_230_1/lstm_cell_443/recurrent_kernel/v, lstm_230_1/lstm_cell_443/recurrent_kernel/v/Initializer/zeros)}}' was changed by setting attribute after it was run by a session. This mutation will have no effect, and will trigger an error in the future. Either don't modify nodes after running them or create a new session.\n"
     ]
    },
    {
     "name": "stdout",
     "output_type": "stream",
     "text": [
      "Parameter run: 3\n",
      "Parameters: {'window_size': 8, 'lstm_units': 16, 'dense_units': 64, 'learning_rate': 0.0001}\n"
     ]
    },
    {
     "name": "stderr",
     "output_type": "stream",
     "text": [
      "2023-05-05 22:09:00.983316: W tensorflow/c/c_api.cc:300] Operation '{name:'lstm_231/lstm_cell_444/recurrent_kernel/Assign' id:262453 op device:{requested: '', assigned: ''} def:{{{node lstm_231/lstm_cell_444/recurrent_kernel/Assign}} = AssignVariableOp[_has_manual_control_dependencies=true, dtype=DT_FLOAT, validate_shape=false](lstm_231/lstm_cell_444/recurrent_kernel, lstm_231/lstm_cell_444/recurrent_kernel/Initializer/mul_1)}}' was changed by setting attribute after it was run by a session. This mutation will have no effect, and will trigger an error in the future. Either don't modify nodes after running them or create a new session.\n",
      "2023-05-05 22:09:07.922649: W tensorflow/c/c_api.cc:300] Operation '{name:'loss_440/mul' id:262666 op device:{requested: '', assigned: ''} def:{{{node loss_440/mul}} = Mul[T=DT_FLOAT, _has_manual_control_dependencies=true](loss_440/mul/x, loss_440/dense_463_loss/value)}}' was changed by setting attribute after it was run by a session. This mutation will have no effect, and will trigger an error in the future. Either don't modify nodes after running them or create a new session.\n",
      "2023-05-05 22:10:33.218841: W tensorflow/c/c_api.cc:300] Operation '{name:'dense_463_1/kernel/Assign' id:263376 op device:{requested: '', assigned: ''} def:{{{node dense_463_1/kernel/Assign}} = AssignVariableOp[_has_manual_control_dependencies=true, dtype=DT_FLOAT, validate_shape=false](dense_463_1/kernel, dense_463_1/kernel/Initializer/random_uniform)}}' was changed by setting attribute after it was run by a session. This mutation will have no effect, and will trigger an error in the future. Either don't modify nodes after running them or create a new session.\n",
      "2023-05-05 22:10:43.654735: W tensorflow/c/c_api.cc:300] Operation '{name:'lstm_231_1/lstm_cell_445/recurrent_kernel/m/Assign' id:263493 op device:{requested: '', assigned: ''} def:{{{node lstm_231_1/lstm_cell_445/recurrent_kernel/m/Assign}} = AssignVariableOp[_has_manual_control_dependencies=true, dtype=DT_FLOAT, validate_shape=false](lstm_231_1/lstm_cell_445/recurrent_kernel/m, lstm_231_1/lstm_cell_445/recurrent_kernel/m/Initializer/zeros)}}' was changed by setting attribute after it was run by a session. This mutation will have no effect, and will trigger an error in the future. Either don't modify nodes after running them or create a new session.\n"
     ]
    },
    {
     "name": "stdout",
     "output_type": "stream",
     "text": [
      "Parameter run: 4\n",
      "Parameters: {'window_size': 8, 'lstm_units': 32, 'dense_units': 128, 'learning_rate': 0.001}\n"
     ]
    },
    {
     "name": "stderr",
     "output_type": "stream",
     "text": [
      "2023-05-05 22:10:58.872421: W tensorflow/c/c_api.cc:300] Operation '{name:'training_434/Adam/decay/Assign' id:264226 op device:{requested: '', assigned: ''} def:{{{node training_434/Adam/decay/Assign}} = AssignVariableOp[_has_manual_control_dependencies=true, dtype=DT_FLOAT, validate_shape=false](training_434/Adam/decay, training_434/Adam/decay/Initializer/initial_value)}}' was changed by setting attribute after it was run by a session. This mutation will have no effect, and will trigger an error in the future. Either don't modify nodes after running them or create a new session.\n",
      "2023-05-05 22:11:05.801655: W tensorflow/c/c_api.cc:300] Operation '{name:'loss_442/mul' id:263871 op device:{requested: '', assigned: ''} def:{{{node loss_442/mul}} = Mul[T=DT_FLOAT, _has_manual_control_dependencies=true](loss_442/mul/x, loss_442/dense_465_loss/value)}}' was changed by setting attribute after it was run by a session. This mutation will have no effect, and will trigger an error in the future. Either don't modify nodes after running them or create a new session.\n",
      "2023-05-05 22:12:19.466808: W tensorflow/c/c_api.cc:300] Operation '{name:'lstm_232_1/lstm_cell_447/kernel/Assign' id:264400 op device:{requested: '', assigned: ''} def:{{{node lstm_232_1/lstm_cell_447/kernel/Assign}} = AssignVariableOp[_has_manual_control_dependencies=true, dtype=DT_FLOAT, validate_shape=false](lstm_232_1/lstm_cell_447/kernel, lstm_232_1/lstm_cell_447/kernel/Initializer/random_uniform)}}' was changed by setting attribute after it was run by a session. This mutation will have no effect, and will trigger an error in the future. Either don't modify nodes after running them or create a new session.\n",
      "2023-05-05 22:12:29.669166: W tensorflow/c/c_api.cc:300] Operation '{name:'lstm_232_1/lstm_cell_447/recurrent_kernel/m/Assign' id:264698 op device:{requested: '', assigned: ''} def:{{{node lstm_232_1/lstm_cell_447/recurrent_kernel/m/Assign}} = AssignVariableOp[_has_manual_control_dependencies=true, dtype=DT_FLOAT, validate_shape=false](lstm_232_1/lstm_cell_447/recurrent_kernel/m, lstm_232_1/lstm_cell_447/recurrent_kernel/m/Initializer/zeros)}}' was changed by setting attribute after it was run by a session. This mutation will have no effect, and will trigger an error in the future. Either don't modify nodes after running them or create a new session.\n"
     ]
    },
    {
     "name": "stdout",
     "output_type": "stream",
     "text": [
      "Parameter run: 5\n",
      "Parameters: {'window_size': 12, 'lstm_units': 64, 'dense_units': 64, 'learning_rate': 0.01}\n"
     ]
    },
    {
     "name": "stderr",
     "output_type": "stream",
     "text": [
      "2023-05-05 22:12:45.035905: W tensorflow/c/c_api.cc:300] Operation '{name:'training_436/Adam/dense_467/bias/m/Assign' id:265477 op device:{requested: '', assigned: ''} def:{{{node training_436/Adam/dense_467/bias/m/Assign}} = AssignVariableOp[_has_manual_control_dependencies=true, dtype=DT_FLOAT, validate_shape=false](training_436/Adam/dense_467/bias/m, training_436/Adam/dense_467/bias/m/Initializer/zeros)}}' was changed by setting attribute after it was run by a session. This mutation will have no effect, and will trigger an error in the future. Either don't modify nodes after running them or create a new session.\n",
      "2023-05-05 22:12:52.049795: W tensorflow/c/c_api.cc:300] Operation '{name:'loss_444/mul' id:265076 op device:{requested: '', assigned: ''} def:{{{node loss_444/mul}} = Mul[T=DT_FLOAT, _has_manual_control_dependencies=true](loss_444/mul/x, loss_444/dense_467_loss/value)}}' was changed by setting attribute after it was run by a session. This mutation will have no effect, and will trigger an error in the future. Either don't modify nodes after running them or create a new session.\n",
      "2023-05-05 22:14:08.524100: W tensorflow/c/c_api.cc:300] Operation '{name:'dense_466_1/kernel/Assign' id:265769 op device:{requested: '', assigned: ''} def:{{{node dense_466_1/kernel/Assign}} = AssignVariableOp[_has_manual_control_dependencies=true, dtype=DT_FLOAT, validate_shape=false](dense_466_1/kernel, dense_466_1/kernel/Initializer/random_uniform)}}' was changed by setting attribute after it was run by a session. This mutation will have no effect, and will trigger an error in the future. Either don't modify nodes after running them or create a new session.\n",
      "2023-05-05 22:14:15.586456: W tensorflow/c/c_api.cc:300] Operation '{name:'lstm_233_1/lstm_cell_449/bias/m/Assign' id:265914 op device:{requested: '', assigned: ''} def:{{{node lstm_233_1/lstm_cell_449/bias/m/Assign}} = AssignVariableOp[_has_manual_control_dependencies=true, dtype=DT_FLOAT, validate_shape=false](lstm_233_1/lstm_cell_449/bias/m, lstm_233_1/lstm_cell_449/bias/m/Initializer/zeros)}}' was changed by setting attribute after it was run by a session. This mutation will have no effect, and will trigger an error in the future. Either don't modify nodes after running them or create a new session.\n"
     ]
    },
    {
     "name": "stdout",
     "output_type": "stream",
     "text": [
      "Parameter run: 6\n",
      "Parameters: {'window_size': 4, 'lstm_units': 64, 'dense_units': 16, 'learning_rate': 0.0001}\n"
     ]
    },
    {
     "name": "stderr",
     "output_type": "stream",
     "text": [
      "2023-05-05 22:14:25.477799: W tensorflow/c/c_api.cc:300] Operation '{name:'training_438/Adam/dense_468/kernel/v/Assign' id:266716 op device:{requested: '', assigned: ''} def:{{{node training_438/Adam/dense_468/kernel/v/Assign}} = AssignVariableOp[_has_manual_control_dependencies=true, dtype=DT_FLOAT, validate_shape=false](training_438/Adam/dense_468/kernel/v, training_438/Adam/dense_468/kernel/v/Initializer/zeros)}}' was changed by setting attribute after it was run by a session. This mutation will have no effect, and will trigger an error in the future. Either don't modify nodes after running them or create a new session.\n",
      "2023-05-05 22:14:30.213939: W tensorflow/c/c_api.cc:300] Operation '{name:'loss_446/mul' id:266289 op device:{requested: '', assigned: ''} def:{{{node loss_446/mul}} = Mul[T=DT_FLOAT, _has_manual_control_dependencies=true](loss_446/mul/x, loss_446/dense_469_loss/value)}}' was changed by setting attribute after it was run by a session. This mutation will have no effect, and will trigger an error in the future. Either don't modify nodes after running them or create a new session.\n",
      "2023-05-05 22:15:37.143308: W tensorflow/c/c_api.cc:300] Operation '{name:'dense_469_1/kernel/Assign' id:267003 op device:{requested: '', assigned: ''} def:{{{node dense_469_1/kernel/Assign}} = AssignVariableOp[_has_manual_control_dependencies=true, dtype=DT_FLOAT, validate_shape=false](dense_469_1/kernel, dense_469_1/kernel/Initializer/random_uniform)}}' was changed by setting attribute after it was run by a session. This mutation will have no effect, and will trigger an error in the future. Either don't modify nodes after running them or create a new session.\n"
     ]
    }
   ],
   "source": [
    "# train the model with 6 features\n",
    "best_model = train_model(data, 10)"
   ]
  },
  {
   "cell_type": "code",
   "execution_count": null,
   "metadata": {},
   "outputs": [],
   "source": [
    "# show the best model components \n",
    "best_model"
   ]
  },
  {
   "cell_type": "markdown",
   "metadata": {},
   "source": [
    "In this step, I will visualize the data to how it fits."
   ]
  },
  {
   "cell_type": "code",
   "execution_count": null,
   "metadata": {},
   "outputs": [],
   "source": [
    "def model_validation(data, best_model):\n",
    "    \n",
    "    for name in best_model:\n",
    "        \n",
    "        X_train, X_val, X_test, test_mean, test_std, y_train, y_val, y_test, test_y_mean, test_y_std  = data_split(data[name], best_model[name]['paramter']['window_size'])\n",
    "        \n",
    "        # make prediction\n",
    "        test_predictions = best_model[name]['model'].predict(np.array(X_test))\n",
    "        \n",
    "        # select the Adjusted Close for prediction (last column)\n",
    "        test_predictions_ = test_predictions[:,-1].tolist()\n",
    "        \n",
    "        # back transformation for X data  from the normalization \n",
    "        transfom_X = ((np.array(test_predictions_)*test_std) + test_mean).tolist()\n",
    "\n",
    "        # select the Adjusted Close for test data (last column)\n",
    "        y_test_ = y_test[:,-1].tolist()\n",
    "        \n",
    "        # back transformation for y data  from the normalization \n",
    "        transfom_y = ((np.array(y_test_)*test_y_std) + test_y_mean).tolist()\n",
    "\n",
    "        # create a dataframe with predicted values and real values\n",
    "        test_results = pd.DataFrame(data={'Test Predictions':transfom_X, 'Actuals': transfom_y})\n",
    "        \n",
    "        # calculate the difference between prediction and ground truth\n",
    "        test_results['diff'] = test_results['Test Predictions']-test_results['Actuals']\n",
    "        \n",
    "        # calculate the percentage difference between prediction and ground truth\n",
    "        test_results['diff%'] = (test_results['diff'] / test_results['Actuals'])*100\n",
    "        \n",
    "        # ploting\n",
    "        print('######################')\n",
    "        print(name)\n",
    "        print('######################')\n",
    "        \n",
    "        # show the statistical informations\n",
    "        print(test_results.describe())\n",
    "\n",
    "        # plot test and ground truth data\n",
    "        plt.figure(figsize=(25, 15))\n",
    "        plt.plot(test_results['Test Predictions'], label='Test Predictions')\n",
    "        plt.plot(test_results['Actuals'], label='Actuals')\n",
    "        plt.title('Comparison Adjusted Close: Predicted And Real Values in Test Data Set')\n",
    "        plt.ylabel('Adjusted Close')\n",
    "        plt.xlabel('Timeline')\n",
    "        plt.legend()\n",
    "        plt.grid()\n",
    "        plt.show()\n",
    "        \n",
    "        # plot for percentage deviation between predicted and real values in test data \n",
    "        plt.figure(figsize=(25, 15))\n",
    "        plt.plot(test_results.index, test_results['diff%'], color='steelblue', label='Percentage Deviation')\n",
    "        plt.axhline(y=5, color='r', linestyle=':', label='Upper Tolerance')\n",
    "        plt.axhline(y=-5, color='r', linestyle=':', label='Lower Tolerance')\n",
    "        plt.grid()\n",
    "        plt.legend()\n",
    "        plt.ylabel('Percentage Deviation[%]')\n",
    "        plt.xlabel('Timeline')\n",
    "        plt.title('Percentage Deviation For Adjusted Close Between Predicted And Real Values in Test Data Set')\n",
    "        plt.show()\n",
    "        print('The mean for the percentage deviation in the test data is {}.'.format(abs(np.mean(test_results['diff%']))))\n",
    "        print('-----------------------------------------')\n",
    "        \n",
    "    return None\n",
    "        \n",
    "        "
   ]
  },
  {
   "cell_type": "code",
   "execution_count": null,
   "metadata": {
    "scrolled": false
   },
   "outputs": [],
   "source": [
    "# showing the results of the best model\n",
    "model_validation(data, best_model)"
   ]
  },
  {
   "cell_type": "markdown",
   "metadata": {},
   "source": [
    "The result is not bad. Let´s if it can be better with 6 more features.\n",
    "\n",
    "***Information***: I´m aware, that with a loop of 10 don´t include all parameter constellations. Due to the training time, I decided this loop number. "
   ]
  },
  {
   "cell_type": "code",
   "execution_count": null,
   "metadata": {},
   "outputs": [],
   "source": [
    "data = feat_eng(data)"
   ]
  },
  {
   "cell_type": "code",
   "execution_count": null,
   "metadata": {},
   "outputs": [],
   "source": [
    "# train the model with 17 features\n",
    "best_model = train_model(data, 10)"
   ]
  },
  {
   "cell_type": "code",
   "execution_count": null,
   "metadata": {},
   "outputs": [],
   "source": [
    "# show the best model components \n",
    "best_model"
   ]
  },
  {
   "cell_type": "code",
   "execution_count": null,
   "metadata": {},
   "outputs": [],
   "source": [
    "model_validation(data, best_model)"
   ]
  },
  {
   "cell_type": "code",
   "execution_count": null,
   "metadata": {},
   "outputs": [],
   "source": []
  },
  {
   "cell_type": "markdown",
   "metadata": {},
   "source": [
    "## <a class=\"anchor\" id=\"comparison\"> 3. Comparison Stock Types </a>"
   ]
  },
  {
   "cell_type": "markdown",
   "metadata": {},
   "source": [
    "In this chapter, I will do 20 trainings loops for all stocks and compare the prediction performance on the base of the stock type."
   ]
  },
  {
   "cell_type": "code",
   "execution_count": null,
   "metadata": {},
   "outputs": [],
   "source": []
  },
  {
   "cell_type": "markdown",
   "metadata": {},
   "source": [
    "## <a class=\"anchor\" id=\"plstm\"> 4. Prediction: LSTM </a>"
   ]
  },
  {
   "cell_type": "code",
   "execution_count": 145,
   "metadata": {},
   "outputs": [
    {
     "name": "stdout",
     "output_type": "stream",
     "text": [
      "1\n",
      "1/1 [==============================] - 0s 14ms/step\n",
      "2\n",
      "1/1 [==============================] - 0s 11ms/step\n",
      "3\n",
      "1/1 [==============================] - 0s 12ms/step\n",
      "4\n",
      "1/1 [==============================] - 0s 12ms/step\n",
      "5\n",
      "1/1 [==============================] - 0s 12ms/step\n",
      "6\n",
      "1/1 [==============================] - 0s 11ms/step\n",
      "7\n",
      "1/1 [==============================] - 0s 11ms/step\n",
      "8\n",
      "1/1 [==============================] - 0s 12ms/step\n",
      "9\n",
      "1/1 [==============================] - 0s 12ms/step\n",
      "10\n",
      "1/1 [==============================] - 0s 12ms/step\n",
      "11\n",
      "1/1 [==============================] - 0s 12ms/step\n",
      "12\n",
      "1/1 [==============================] - 0s 11ms/step\n",
      "13\n",
      "1/1 [==============================] - 0s 12ms/step\n",
      "14\n",
      "1/1 [==============================] - 0s 12ms/step\n",
      "15\n",
      "1/1 [==============================] - 0s 12ms/step\n",
      "16\n",
      "1/1 [==============================] - 0s 11ms/step\n",
      "17\n",
      "1/1 [==============================] - 0s 12ms/step\n",
      "18\n",
      "1/1 [==============================] - 0s 11ms/step\n",
      "19\n",
      "1/1 [==============================] - 0s 11ms/step\n",
      "20\n",
      "1/1 [==============================] - 0s 11ms/step\n",
      "21\n",
      "1/1 [==============================] - 0s 11ms/step\n",
      "22\n",
      "1/1 [==============================] - 0s 11ms/step\n",
      "23\n",
      "1/1 [==============================] - 0s 11ms/step\n",
      "24\n",
      "1/1 [==============================] - 0s 12ms/step\n",
      "25\n",
      "1/1 [==============================] - 0s 11ms/step\n",
      "26\n",
      "1/1 [==============================] - 0s 13ms/step\n",
      "27\n",
      "1/1 [==============================] - 0s 12ms/step\n",
      "28\n",
      "1/1 [==============================] - 0s 13ms/step\n"
     ]
    }
   ],
   "source": [
    "data = Xs_test['JNJ'][-1]\n",
    "\n",
    "predictions_list = []\n",
    "\n",
    "for i in range(1, 29):  # Wiederholen Sie den Vorgang 10 Mal, um Vorhersagen für die nächsten 10 Zeitschritte zu erhalten\n",
    "    \n",
    "    print(i)\n",
    "    prediction = model1.predict(np.array(data).reshape(1, 10, 17))  # Das Modell erwartet eine Eingabeform von (1, 10, 17)\n",
    "    predictions_list.append(prediction)\n",
    "    data = np.vstack((data[1:], prediction))"
   ]
  },
  {
   "cell_type": "code",
   "execution_count": 148,
   "metadata": {},
   "outputs": [],
   "source": [
    "a = [arr[-1] for arr in data]\n",
    "b = [arr[-1] for arr in Xs_test['JNJ'][-1]]"
   ]
  },
  {
   "cell_type": "code",
   "execution_count": 150,
   "metadata": {},
   "outputs": [
    {
     "data": {
      "text/plain": [
       "[0.7531004548072815,\n",
       " 0.7520443797111511,\n",
       " 0.7510243058204651,\n",
       " 0.7500399351119995,\n",
       " 0.7490900754928589,\n",
       " 0.748173177242279,\n",
       " 0.747286319732666,\n",
       " 0.7464272379875183,\n",
       " 0.7455933094024658,\n",
       " 0.7447816133499146]"
      ]
     },
     "execution_count": 150,
     "metadata": {},
     "output_type": "execute_result"
    }
   ],
   "source": [
    "a"
   ]
  },
  {
   "cell_type": "code",
   "execution_count": 151,
   "metadata": {},
   "outputs": [
    {
     "data": {
      "text/plain": [
       "[<matplotlib.lines.Line2D at 0x2fcf994b0>]"
      ]
     },
     "execution_count": 151,
     "metadata": {},
     "output_type": "execute_result"
    },
    {
     "data": {
      "image/png": "[encoded data removed]",
      "text/plain": [
       "<Figure size 640x480 with 1 Axes>"
      ]
     },
     "metadata": {},
     "output_type": "display_data"
    }
   ],
   "source": [
    "plt.plot(a)\n",
    "plt.plot(b)"
   ]
  },
  {
   "cell_type": "markdown",
   "metadata": {},
   "source": [
    "Neuer Plan:\n",
    "- Jupyter Notebooks fertig machen\n",
    "- Klassich Daten (nur Stock Namen) eingeben\n",
    "    - Daten in DB speichern\n",
    "    - Neues Programm: Visualisierung in einem Neuen Fenster, wenn der Kunde es wünscht\n",
    "    - Neues Programm: starten für Prediction\n",
    "        - Daten laden und feature engineering durchführen\n",
    "        - LTSM trainieren (50 Epochen, inklusiere finden des besten window-fensters)\n",
    "        - Zukunftswerte predicten: 7, 14, 28 Tage\n",
    "        - Visualisierung von Status Quo zu Prediction mit Empfehlung\n",
    "               - Kunden Visualisierung:\n",
    "                     - Testdaten zeigen in einer Farbe\n",
    "                     - Zukunftswerte (Kursentwicklung) in einer anderen Farbe\n",
    "                     - Empfehlung schreiben:\n",
    "                     - Ist der Wert größer nach 28 Tage: Behalten\n",
    "                     - kleiner: verkaufen"
   ]
  }
 ],
 "metadata": {
  "kernelspec": {
   "display_name": "Python 3 (ipykernel)",
   "language": "python",
   "name": "python3"
  },
  "language_info": {
   "codemirror_mode": {
    "name": "ipython",
    "version": 3
   },
   "file_extension": ".py",
   "mimetype": "text/x-python",
   "name": "python",
   "nbconvert_exporter": "python",
   "pygments_lexer": "ipython3",
   "version": "3.10.9"
  }
 },
 "nbformat": 4,
 "nbformat_minor": 1
}
